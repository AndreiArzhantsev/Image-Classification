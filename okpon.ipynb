{
 "cells": [
  {
   "cell_type": "code",
   "execution_count": null,
   "id": "7cd41305",
   "metadata": {
    "cellId": "2nbprzr8mbfjrs3wa7p09",
    "execution_id": "e02f5679-93a3-42e6-9363-b631288f6f1b"
   },
   "outputs": [],
   "source": [
    "#!g1.1\n",
    "import torch\n",
    "import torch.nn as nn\n",
    "import torch.nn.functional as F\n",
    "import torch.optim as optim\n",
    "import torchvision\n",
    "from torch.utils.data import DataLoader, Dataset, random_split\n",
    "from torchvision import transforms\n",
    "import os\n",
    "import shutil\n",
    "from PIL import Image\n",
    "import pandas as pd\n",
    "import numpy as np\n",
    "import math\n",
    "import wandb\n",
    "import sys\n",
    "from torchvision.transforms.functional import InterpolationMode"
   ]
  },
  {
   "cell_type": "code",
   "execution_count": null,
   "id": "f2627637",
   "metadata": {
    "cellId": "f56cz01xd5m06mn58a9nq3a",
    "execution_id": "9c9db665-aace-4bac-bf80-e606759000b8"
   },
   "outputs": [],
   "source": [
    "#!g1.1\n",
    "from MyDataset import MyDataset\n",
    "from train import train_m\n",
    "from predict import predict\n",
    "from loader import get_data"
   ]
  },
  {
   "cell_type": "code",
   "execution_count": 46,
   "id": "b1a3f9d6",
   "metadata": {
    "cellId": "e2t39eakpz7kttljblapu"
   },
   "outputs": [],
   "source": [
    "#!g1.1\n",
    "transform_sem = transforms.Compose([\n",
    "    transforms.RandomResizedCrop(224, scale=(0.5, 1.0)),\n",
    "    transforms.RandomHorizontalFlip(),\n",
    "    transforms.ToTensor(),\n",
    "    transforms.Normalize(mean=[0.485, 0.456, 0.406], std=[0.229, 0.224, 0.225]),\n",
    "])\n",
    "\n",
    "test_transform_sem = transforms.Compose([\n",
    "    transforms.Resize(256),\n",
    "    transforms.CenterCrop(224),\n",
    "    transforms.ToTensor(),\n",
    "    transforms.Normalize(mean=[0.485, 0.456, 0.406], std=[0.229, 0.224, 0.225]),\n",
    "])\n",
    "\n",
    "df = pd.read_csv('data/bhw1-dataset/labels.csv')\n",
    "trainval = MyDataset(path=\"data/bhw1-dataset/trainval\", df=df, load_to_ram=False, transform=transform_sem) \n",
    "test = MyDataset(path=\"data/bhw1-dataset/test\", df=None, load_to_ram=False, transform=test_transform_sem) \n",
    "cnt_l = len(np.unique(np.array(trainval.labels)))\n",
    "train, val = random_split(trainval, [int(0.9*len(trainval)),len(trainval)- int(0.9*len(trainval))])"
   ]
  },
  {
   "cell_type": "code",
   "execution_count": 47,
   "id": "3467ce61",
   "metadata": {
    "cellId": "qksbmuuwje8bxxe0i6ird"
   },
   "outputs": [
    {
     "name": "stdout",
     "output_type": "stream",
     "text": [
      "cuda:0\n"
     ]
    }
   ],
   "source": [
    "#!g1.1\n",
    "device = torch.device('cuda:0' if torch.cuda.is_available() else 'cpu')\n",
    "print(device)"
   ]
  },
  {
   "cell_type": "code",
   "execution_count": 48,
   "id": "705b8188",
   "metadata": {
    "cellId": "mfeb043bnrlkrfu8067wih"
   },
   "outputs": [
    {
     "name": "stdout",
     "output_type": "stream",
     "text": [
      "cuda:0\n"
     ]
    }
   ],
   "source": [
    "#!g1.1\n",
    "from torchvision.models import mobilenet_v3_large\n",
    "model2 = mobilenet_v3_large()\n",
    "model2.classifier[3] = nn.Linear(in_features=1280, out_features=200)\n",
    "model2.to(device)\n",
    "print(device)"
   ]
  },
  {
   "cell_type": "code",
   "execution_count": 49,
   "id": "f26891ba",
   "metadata": {
    "cellId": "o9w3m534skm9xj1vnhyt"
   },
   "outputs": [
    {
     "name": "stderr",
     "output_type": "stream",
     "text": [
      "Failed to detect the name of this notebook, you can set it manually with the WANDB_NOTEBOOK_NAME environment variable to enable code saving.\n",
      "\u001b[34m\u001b[1mwandb\u001b[0m: Currently logged in as: \u001b[33marzhanandrey\u001b[0m (\u001b[33marzhanandrey_team\u001b[0m). Use \u001b[1m`wandb login --relogin`\u001b[0m to force relogin\n"
     ]
    },
    {
     "data": {
      "text/html": [
       "Tracking run with wandb version 0.13.7"
      ],
      "text/plain": [
       "<IPython.core.display.HTML object>"
      ]
     },
     "metadata": {},
     "output_type": "display_data"
    },
    {
     "data": {
      "text/html": [
       "Run data is saved locally in <code>/home/jupyter/work/resources/wandb/run-20221218_083041-1ljzaajr</code>"
      ],
      "text/plain": [
       "<IPython.core.display.HTML object>"
      ]
     },
     "metadata": {},
     "output_type": "display_data"
    },
    {
     "data": {
      "text/html": [
       "Syncing run <strong><a href=\"https://wandb.ai/arzhanandrey_team/project7/runs/1ljzaajr\" target=\"_blank\">grateful-planet-7</a></strong> to <a href=\"https://wandb.ai/arzhanandrey_team/project7\" target=\"_blank\">Weights & Biases</a> (<a href=\"https://wandb.me/run\" target=\"_blank\">docs</a>)<br/>"
      ],
      "text/plain": [
       "<IPython.core.display.HTML object>"
      ]
     },
     "metadata": {},
     "output_type": "display_data"
    },
    {
     "data": {
      "text/html": [
       "<button onClick=\"this.nextSibling.style.display='block';this.style.display='none';\">Display W&B run</button><iframe src=\"https://wandb.ai/arzhanandrey_team/project7/runs/1ljzaajr?jupyter=true\" style=\"border:none;width:100%;height:420px;display:none;\"></iframe>"
      ],
      "text/plain": [
       "<wandb.sdk.wandb_run.Run at 0x7fe8b006c7c0>"
      ]
     },
     "execution_count": 49,
     "metadata": {},
     "output_type": "execute_result"
    }
   ],
   "source": [
    "#!g1.1\n",
    "wandb.init(project=\"project7\", entity=\"arzhanandrey_team\", settings=wandb.Settings(start_method=\"fork\"))"
   ]
  },
  {
   "cell_type": "code",
   "execution_count": 50,
   "id": "c0bc3ef9",
   "metadata": {
    "cellId": "jpqpbkj8jehi6grk9w31bc",
    "execution_id": "b9b4eb9f-0003-4c5c-8d53-5a598ed76d3a"
   },
   "outputs": [
    {
     "name": "stdout",
     "output_type": "stream",
     "text": [
      "100%|██████████| 1407/1407 [03:39<00:00,  6.42it/s]\n",
      "100%|██████████| 1407/1407 [03:36<00:00,  6.50it/s]\n",
      "100%|██████████| 1407/1407 [03:33<00:00,  6.60it/s]\n",
      "100%|██████████| 1407/1407 [03:24<00:00,  6.87it/s]\n",
      "100%|██████████| 1407/1407 [03:12<00:00,  7.31it/s]\n",
      "100%|██████████| 1407/1407 [03:15<00:00,  7.20it/s]\n",
      "100%|██████████| 1407/1407 [03:22<00:00,  6.95it/s]\n",
      "100%|██████████| 1407/1407 [03:36<00:00,  6.51it/s]\n",
      "100%|██████████| 1407/1407 [03:39<00:00,  6.42it/s]\n",
      "100%|██████████| 1407/1407 [03:36<00:00,  6.49it/s]\n",
      "100%|██████████| 1407/1407 [03:32<00:00,  6.62it/s]\n",
      "100%|██████████| 1407/1407 [03:25<00:00,  6.86it/s]\n"
     ]
    },
    {
     "data": {
      "text/html": [
       "Waiting for W&B process to finish... <strong style=\"color:green\">(success).</strong>"
      ],
      "text/plain": [
       "<IPython.core.display.HTML object>"
      ]
     },
     "metadata": {},
     "output_type": "display_data"
    },
    {
     "data": {
      "application/vnd.jupyter.widget-view+json": {
       "model_id": "5bacfbb56024473f990980f7911a04d8",
       "version_major": 2,
       "version_minor": 0
      },
      "text/plain": [
       "VBox(children=(Label(value='0.002 MB of 0.002 MB uploaded (0.000 MB deduped)\\r'), FloatProgress(value=1.0, max…"
      ]
     },
     "metadata": {},
     "output_type": "display_data"
    },
    {
     "data": {
      "text/html": [
       "<style>\n",
       "    table.wandb td:nth-child(1) { padding: 0 10px; text-align: left ; width: auto;} td:nth-child(2) {text-align: left ; width: 100%}\n",
       "    .wandb-row { display: flex; flex-direction: row; flex-wrap: wrap; justify-content: flex-start; width: 100% }\n",
       "    .wandb-col { display: flex; flex-direction: column; flex-basis: 100%; flex: 1; padding: 10px; }\n",
       "    </style>\n",
       "<div class=\"wandb-row\"><div class=\"wandb-col\"><h3>Run history:</h3><br/><table class=\"wandb\"><tr><td>train_acc</td><td>▁▂▂▃▃▄▄▄▅▅▅▅▅▅▅▅▆▆▆▆▆▆▆▆▆▆▆▆▇▇██████████</td></tr><tr><td>train_loss</td><td>█▇▆▆▅▅▄▄▄▄▃▃▃▃▃▃▃▃▃▃▂▂▂▂▂▂▂▂▂▁▁▁▁▁▁▁▁▁▁▁</td></tr><tr><td>val_acc</td><td>▁▂▃▄▄▅▅▅▆▆▆▆▆▇▇▇▇▇▇▇▇▇▇▇▇▇▇▇▇███████████</td></tr><tr><td>val_loss</td><td>█▆▅▄▃▃▃▃▂▂▂▂▂▂▂▂▂▂▂▂▂▂▂▂▂▂▂▂▂▁▁▁▁▁▁▁▁▁▁▁</td></tr></table><br/></div><div class=\"wandb-col\"><h3>Run summary:</h3><br/><table class=\"wandb\"><tr><td>train_acc</td><td>0.8816</td></tr><tr><td>train_loss</td><td>0.41732</td></tr><tr><td>val_acc</td><td>0.59315</td></tr><tr><td>val_loss</td><td>1.87623</td></tr></table><br/></div></div>"
      ],
      "text/plain": [
       "<IPython.core.display.HTML object>"
      ]
     },
     "metadata": {},
     "output_type": "display_data"
    },
    {
     "data": {
      "text/html": [
       "Synced <strong style=\"color:#cdcd00\">grateful-planet-7</strong>: <a href=\"https://wandb.ai/arzhanandrey_team/project7/runs/1ljzaajr\" target=\"_blank\">https://wandb.ai/arzhanandrey_team/project7/runs/1ljzaajr</a><br/>Synced 5 W&B file(s), 0 media file(s), 0 artifact file(s) and 0 other file(s)"
      ],
      "text/plain": [
       "<IPython.core.display.HTML object>"
      ]
     },
     "metadata": {},
     "output_type": "display_data"
    },
    {
     "data": {
      "text/html": [
       "Find logs at: <code>./wandb/run-20221218_083041-1ljzaajr/logs</code>"
      ],
      "text/plain": [
       "<IPython.core.display.HTML object>"
      ]
     },
     "metadata": {},
     "output_type": "display_data"
    }
   ],
   "source": [
    "#!g1.1\n",
    "from tqdm import tqdm \n",
    "train_loader, val_loader, test_loader = \\\n",
    "get_data(batch_size=64, data=train, shuffle=True), get_data(batch_size=64, data=val, shuffle=True),get_data(batch_size=64, data=test, shuffle=False)\n",
    "\n",
    "optimizer = optim.SGD(model2.parameters(), lr=0.01, momentum=0.9, weight_decay=1e-4)\n",
    "scheduler = optim.lr_scheduler.ReduceLROnPlateau(optimizer, patience=5)\n",
    "\n",
    "wandb.watch(model2)\n",
    "\n",
    "train_loss_log, train_acc_log, val_loss_log, val_acc_log = train_m(device, model2, optimizer, 50, train_loader, val_loader, scheduler)\n",
    "wandb.finish()"
   ]
  },
  {
   "cell_type": "code",
   "execution_count": 51,
   "id": "089d136f",
   "metadata": {
    "cellId": "wlmkhy6p71pi8p9kd8nqj",
    "execution_id": "fcbdde87-95ef-435c-8d7f-ca92917e1388"
   },
   "outputs": [
    {
     "name": "stdout",
     "output_type": "stream",
     "text": [
      "0\n",
      "100\n",
      "(10000, 2)\n"
     ]
    }
   ],
   "source": [
    "#!g1.1\n",
    "test_loader = get_data(batch_size=64, data=test, shuffle=False)\n",
    "predicts = predict(device, model2, test_loader)в\n",
    "df2 = pd.DataFrame(columns=['Id', 'Label'])\n",
    "for i in range(len(predicts)):\n",
    "    df2.loc[i, ['Id', 'Label']] = test.all_files[i], predicts[i].item()\n",
    "print(df2.shape)"
   ]
  },
  {
   "cell_type": "code",
   "execution_count": 56,
   "id": "4f4f2c2f",
   "metadata": {
    "cellId": "5qakpweq5htl81wfsjzd4"
   },
   "outputs": [],
   "source": [
    "#!g1.1\n",
    "df2.to_csv('mobile_plato_50ep.csv', index=False)"
   ]
  },
  {
   "cell_type": "code",
   "execution_count": 68,
   "id": "5f4496e9",
   "metadata": {
    "cellId": "rvblr5kat7cz47017tjy"
   },
   "outputs": [
    {
     "name": "stderr",
     "output_type": "stream",
     "text": [
      "Failed to detect the name of this notebook, you can set it manually with the WANDB_NOTEBOOK_NAME environment variable to enable code saving.\n",
      "\u001b[34m\u001b[1mwandb\u001b[0m: Currently logged in as: \u001b[33marzhanandrey\u001b[0m (\u001b[33marzhanandrey_team\u001b[0m). Use \u001b[1m`wandb login --relogin`\u001b[0m to force relogin\n"
     ]
    },
    {
     "data": {
      "text/html": [
       "Tracking run with wandb version 0.13.7"
      ],
      "text/plain": [
       "<IPython.core.display.HTML object>"
      ]
     },
     "metadata": {},
     "output_type": "display_data"
    },
    {
     "data": {
      "text/html": [
       "Run data is saved locally in <code>/home/jupyter/work/resources/wandb/run-20221218_182348-uwpb4enr</code>"
      ],
      "text/plain": [
       "<IPython.core.display.HTML object>"
      ]
     },
     "metadata": {},
     "output_type": "display_data"
    },
    {
     "data": {
      "text/html": [
       "Syncing run <strong><a href=\"https://wandb.ai/arzhanandrey_team/project7/runs/uwpb4enr\" target=\"_blank\">balmy-feather-8</a></strong> to <a href=\"https://wandb.ai/arzhanandrey_team/project7\" target=\"_blank\">Weights & Biases</a> (<a href=\"https://wandb.me/run\" target=\"_blank\">docs</a>)<br/>"
      ],
      "text/plain": [
       "<IPython.core.display.HTML object>"
      ]
     },
     "metadata": {},
     "output_type": "display_data"
    },
    {
     "data": {
      "text/html": [
       "<button onClick=\"this.nextSibling.style.display='block';this.style.display='none';\">Display W&B run</button><iframe src=\"https://wandb.ai/arzhanandrey_team/project7/runs/uwpb4enr?jupyter=true\" style=\"border:none;width:100%;height:420px;display:none;\"></iframe>"
      ],
      "text/plain": [
       "<wandb.sdk.wandb_run.Run at 0x7ff0859e4160>"
      ]
     },
     "execution_count": 68,
     "metadata": {},
     "output_type": "execute_result"
    }
   ],
   "source": [
    "#!g1.1\n",
    "wandb.init(project=\"project7\", entity=\"arzhanandrey_team\", settings=wandb.Settings(start_method=\"fork\"))"
   ]
  },
  {
   "cell_type": "code",
   "execution_count": 70,
   "id": "503985e6",
   "metadata": {
    "cellId": "g32by4y3j6gzymaeqlb1pp"
   },
   "outputs": [
    {
     "name": "stdout",
     "output_type": "stream",
     "text": [
      "cuda:0\n"
     ]
    },
    {
     "data": {
      "text/plain": [
       "<All keys matched successfully>"
      ]
     },
     "execution_count": 70,
     "metadata": {},
     "output_type": "execute_result"
    }
   ],
   "source": [
    "#!g1.1\n",
    "model_f = torch.load('mobilenet_sem45.pt')\n",
    "model2 = mobilenet_v3_large()\n",
    "model2.classifier[3] = nn.Linear(in_features=1280, out_features=200)\n",
    "model2.to(device)\n",
    "print(device)\n",
    "model2.load_state_dict(model_f)"
   ]
  },
  {
   "cell_type": "code",
   "execution_count": 71,
   "id": "b10bc236",
   "metadata": {
    "cellId": "lvuq76jy6jfkwwq8xfbo4q"
   },
   "outputs": [],
   "source": [
    "#!g1.1\n",
    "df = pd.read_csv('data/bhw1-dataset/labels.csv')\n",
    "trainval = MyDataset(path=\"data/bhw1-dataset/trainval\", df=df, load_to_ram=False, transform=transform_sem) \n",
    "test = MyDataset(path=\"data/bhw1-dataset/test\", df=None, load_to_ram=False, transform=test_transform_sem) \n",
    "cnt_l = len(np.unique(np.array(trainval.labels)))\n",
    "train, val = random_split(trainval, [int(0.999*len(trainval)),len(trainval)- int(0.999*len(trainval))])"
   ]
  },
  {
   "cell_type": "code",
   "execution_count": 73,
   "id": "e8de86b0",
   "metadata": {
    "cellId": "03firapbmrf3kelu48s913"
   },
   "outputs": [
    {
     "data": {
      "text/html": [
       "Tracking run with wandb version 0.13.7"
      ],
      "text/plain": [
       "<IPython.core.display.HTML object>"
      ]
     },
     "metadata": {},
     "output_type": "display_data"
    },
    {
     "data": {
      "text/html": [
       "Run data is saved locally in <code>/home/jupyter/work/resources/wandb/run-20221218_185959-3kew7mhi</code>"
      ],
      "text/plain": [
       "<IPython.core.display.HTML object>"
      ]
     },
     "metadata": {},
     "output_type": "display_data"
    },
    {
     "data": {
      "text/html": [
       "Syncing run <strong><a href=\"https://wandb.ai/arzhanandrey_team/project7/runs/3kew7mhi\" target=\"_blank\">breezy-mountain-9</a></strong> to <a href=\"https://wandb.ai/arzhanandrey_team/project7\" target=\"_blank\">Weights & Biases</a> (<a href=\"https://wandb.me/run\" target=\"_blank\">docs</a>)<br/>"
      ],
      "text/plain": [
       "<IPython.core.display.HTML object>"
      ]
     },
     "metadata": {},
     "output_type": "display_data"
    },
    {
     "data": {
      "text/html": [
       "<button onClick=\"this.nextSibling.style.display='block';this.style.display='none';\">Display W&B run</button><iframe src=\"https://wandb.ai/arzhanandrey_team/project7/runs/3kew7mhi?jupyter=true\" style=\"border:none;width:100%;height:420px;display:none;\"></iframe>"
      ],
      "text/plain": [
       "<wandb.sdk.wandb_run.Run at 0x7ff03c130dc0>"
      ]
     },
     "execution_count": 73,
     "metadata": {},
     "output_type": "execute_result"
    }
   ],
   "source": [
    "#!g1.1\n",
    "wandb.init(project=\"project7\", entity=\"arzhanandrey_team\", settings=wandb.Settings(start_method=\"fork\"))"
   ]
  },
  {
   "cell_type": "code",
   "execution_count": 74,
   "id": "5e8b5e22",
   "metadata": {
    "cellId": "ty7q9c4ny1a4nlt3o9bx"
   },
   "outputs": [
    {
     "name": "stdout",
     "output_type": "stream",
     "text": [
      "100%|██████████| 1561/1561 [03:05<00:00,  8.41it/s]\n",
      "100%|██████████| 1561/1561 [03:30<00:00,  7.43it/s]\n",
      "100%|██████████| 1561/1561 [03:48<00:00,  6.83it/s]\n",
      "100%|██████████| 1561/1561 [03:52<00:00,  6.71it/s]\n",
      "100%|██████████| 1561/1561 [03:53<00:00,  6.68it/s]\n",
      "100%|██████████| 1561/1561 [03:46<00:00,  6.89it/s]\n",
      "100%|██████████| 1561/1561 [03:41<00:00,  7.04it/s]\n",
      "100%|██████████| 1561/1561 [03:46<00:00,  6.90it/s]\n"
     ]
    },
    {
     "data": {
      "text/html": [
       "Waiting for W&B process to finish... <strong style=\"color:green\">(success).</strong>"
      ],
      "text/plain": [
       "<IPython.core.display.HTML object>"
      ]
     },
     "metadata": {},
     "output_type": "display_data"
    },
    {
     "data": {
      "application/vnd.jupyter.widget-view+json": {
       "model_id": "ec5614ce90e44e91b0b9b9c29632e632",
       "version_major": 2,
       "version_minor": 0
      },
      "text/plain": [
       "VBox(children=(Label(value='0.002 MB of 0.002 MB uploaded (0.000 MB deduped)\\r'), FloatProgress(value=1.0, max…"
      ]
     },
     "metadata": {},
     "output_type": "display_data"
    },
    {
     "data": {
      "text/html": [
       "<style>\n",
       "    table.wandb td:nth-child(1) { padding: 0 10px; text-align: left ; width: auto;} td:nth-child(2) {text-align: left ; width: 100%}\n",
       "    .wandb-row { display: flex; flex-direction: row; flex-wrap: wrap; justify-content: flex-start; width: 100% }\n",
       "    .wandb-col { display: flex; flex-direction: column; flex-basis: 100%; flex: 1; padding: 10px; }\n",
       "    </style>\n",
       "<div class=\"wandb-row\"><div class=\"wandb-col\"><h3>Run history:</h3><br/><table class=\"wandb\"><tr><td>train_acc</td><td>▁▁▂▂▂▃▃▃▇█</td></tr><tr><td>train_loss</td><td>█▇▇▇▆▆▆▆▂▁</td></tr><tr><td>val_acc</td><td>▇█▅▁▁▂▄▃▆▇</td></tr><tr><td>val_loss</td><td>▃▁▄█▇▇▅▇▂▃</td></tr></table><br/></div><div class=\"wandb-col\"><h3>Run summary:</h3><br/><table class=\"wandb\"><tr><td>train_acc</td><td>0.86522</td></tr><tr><td>train_loss</td><td>0.47648</td></tr><tr><td>val_acc</td><td>0.65017</td></tr><tr><td>val_loss</td><td>1.43172</td></tr></table><br/></div></div>"
      ],
      "text/plain": [
       "<IPython.core.display.HTML object>"
      ]
     },
     "metadata": {},
     "output_type": "display_data"
    },
    {
     "data": {
      "text/html": [
       "Synced <strong style=\"color:#cdcd00\">breezy-mountain-9</strong>: <a href=\"https://wandb.ai/arzhanandrey_team/project7/runs/3kew7mhi\" target=\"_blank\">https://wandb.ai/arzhanandrey_team/project7/runs/3kew7mhi</a><br/>Synced 5 W&B file(s), 0 media file(s), 0 artifact file(s) and 0 other file(s)"
      ],
      "text/plain": [
       "<IPython.core.display.HTML object>"
      ]
     },
     "metadata": {},
     "output_type": "display_data"
    },
    {
     "data": {
      "text/html": [
       "Find logs at: <code>./wandb/run-20221218_185959-3kew7mhi/logs</code>"
      ],
      "text/plain": [
       "<IPython.core.display.HTML object>"
      ]
     },
     "metadata": {},
     "output_type": "display_data"
    }
   ],
   "source": [
    "#!g1.1\n",
    "from tqdm import tqdm \n",
    "train_loader, val_loader, test_loader = \\\n",
    "get_data(batch_size=64, data=train, shuffle=True), get_data(batch_size=64, data=val, shuffle=True),get_data(batch_size=64, data=test, shuffle=False)\n",
    "\n",
    "optimizer = optim.SGD(model2.parameters(), lr=0.01, momentum=0.9, weight_decay=1e-4)\n",
    "scheduler = optim.lr_scheduler.ReduceLROnPlateau(optimizer, patience=5)\n",
    "\n",
    "wandb.watch(model2)\n",
    "\n",
    "train_loss_log, train_acc_log, val_loss_log, val_acc_log = train_m(device, model2, optimizer, 10, train_loader, val_loader, scheduler)\n",
    "wandb.finish()"
   ]
  },
  {
   "cell_type": "code",
   "execution_count": 75,
   "id": "d0eeb578",
   "metadata": {
    "cellId": "7s523d5fgupfloj7plg7v"
   },
   "outputs": [
    {
     "name": "stdout",
     "output_type": "stream",
     "text": [
      "0\n",
      "100\n",
      "(10000, 2)\n"
     ]
    }
   ],
   "source": [
    "#!g1.1\n",
    "test = MyDataset(path=\"data/bhw1-dataset/test\", df=None, load_to_ram=False, transform=test_transform_sem) \n",
    "test_loader = get_data(batch_size=64, data=test, shuffle=False)\n",
    "predicts = predict(device, model2, test_loader)\n",
    "df2 = pd.DataFrame(columns=['Id', 'Label'])\n",
    "for i in range(len(predicts)):\n",
    "    df2.loc[i, ['Id', 'Label']] = test.all_files[i], predicts[i].item()\n",
    "print(df2.shape)\n",
    "df2.to_csv('mobile_plato_sem55.csv', index=False)"
   ]
  },
  {
   "cell_type": "code",
   "execution_count": 76,
   "id": "dd171a1e",
   "metadata": {
    "cellId": "718cp508getkg5ha97ffyk"
   },
   "outputs": [
    {
     "data": {
      "text/html": [
       "Tracking run with wandb version 0.13.7"
      ],
      "text/plain": [
       "<IPython.core.display.HTML object>"
      ]
     },
     "metadata": {},
     "output_type": "display_data"
    },
    {
     "data": {
      "text/html": [
       "Run data is saved locally in <code>/home/jupyter/work/resources/wandb/run-20221218_195200-3fezaizg</code>"
      ],
      "text/plain": [
       "<IPython.core.display.HTML object>"
      ]
     },
     "metadata": {},
     "output_type": "display_data"
    },
    {
     "data": {
      "text/html": [
       "Syncing run <strong><a href=\"https://wandb.ai/arzhanandrey_team/project7/runs/3fezaizg\" target=\"_blank\">fluent-aardvark-10</a></strong> to <a href=\"https://wandb.ai/arzhanandrey_team/project7\" target=\"_blank\">Weights & Biases</a> (<a href=\"https://wandb.me/run\" target=\"_blank\">docs</a>)<br/>"
      ],
      "text/plain": [
       "<IPython.core.display.HTML object>"
      ]
     },
     "metadata": {},
     "output_type": "display_data"
    },
    {
     "data": {
      "text/html": [
       "<button onClick=\"this.nextSibling.style.display='block';this.style.display='none';\">Display W&B run</button><iframe src=\"https://wandb.ai/arzhanandrey_team/project7/runs/3fezaizg?jupyter=true\" style=\"border:none;width:100%;height:420px;display:none;\"></iframe>"
      ],
      "text/plain": [
       "<wandb.sdk.wandb_run.Run at 0x7ff0859ca970>"
      ]
     },
     "execution_count": 76,
     "metadata": {},
     "output_type": "execute_result"
    }
   ],
   "source": [
    "#!g1.1\n",
    "wandb.init(project=\"project7\", entity=\"arzhanandrey_team\", settings=wandb.Settings(start_method=\"fork\"))"
   ]
  },
  {
   "cell_type": "code",
   "execution_count": 77,
   "id": "313f1cd7",
   "metadata": {
    "cellId": "7ob9x82vri7xmxkkju3n2l"
   },
   "outputs": [
    {
     "name": "stdout",
     "output_type": "stream",
     "text": [
      "100%|██████████| 1561/1561 [03:15<00:00,  7.98it/s]\n",
      "100%|██████████| 1561/1561 [03:34<00:00,  7.27it/s]\n",
      "100%|██████████| 1561/1561 [03:47<00:00,  6.87it/s]\n",
      "100%|██████████| 1561/1561 [03:56<00:00,  6.60it/s]\n",
      "100%|██████████| 1561/1561 [03:58<00:00,  6.56it/s]\n",
      "100%|██████████| 1561/1561 [03:56<00:00,  6.60it/s]\n",
      "100%|██████████| 1561/1561 [03:44<00:00,  6.95it/s]\n",
      "100%|██████████| 1561/1561 [03:43<00:00,  6.99it/s]\n",
      "100%|██████████| 1561/1561 [03:42<00:00,  7.03it/s]\n",
      "100%|██████████| 1561/1561 [03:50<00:00,  6.77it/s]\n",
      "100%|██████████| 1561/1561 [03:59<00:00,  6.51it/s]\n",
      "100%|██████████| 1561/1561 [03:59<00:00,  6.52it/s]\n",
      "100%|██████████| 1561/1561 [03:46<00:00,  6.90it/s]\n",
      "100%|██████████| 1561/1561 [03:44<00:00,  6.94it/s]\n",
      "100%|██████████| 1561/1561 [03:42<00:00,  7.01it/s]\n",
      "100%|██████████| 1561/1561 [03:49<00:00,  6.81it/s]\n",
      "100%|██████████| 1561/1561 [03:58<00:00,  6.55it/s]\n",
      "100%|██████████| 1561/1561 [04:00<00:00,  6.50it/s]\n",
      "100%|██████████| 1561/1561 [03:57<00:00,  6.56it/s]\n",
      "100%|██████████| 1561/1561 [03:43<00:00,  6.97it/s]\n"
     ]
    },
    {
     "data": {
      "text/html": [
       "Waiting for W&B process to finish... <strong style=\"color:green\">(success).</strong>"
      ],
      "text/plain": [
       "<IPython.core.display.HTML object>"
      ]
     },
     "metadata": {},
     "output_type": "display_data"
    },
    {
     "data": {
      "application/vnd.jupyter.widget-view+json": {
       "model_id": "7f2b77ad7f9b407d969a780dc68d3d06",
       "version_major": 2,
       "version_minor": 0
      },
      "text/plain": [
       "VBox(children=(Label(value='0.002 MB of 0.002 MB uploaded (0.000 MB deduped)\\r'), FloatProgress(value=1.0, max…"
      ]
     },
     "metadata": {},
     "output_type": "display_data"
    },
    {
     "data": {
      "text/html": [
       "<style>\n",
       "    table.wandb td:nth-child(1) { padding: 0 10px; text-align: left ; width: auto;} td:nth-child(2) {text-align: left ; width: 100%}\n",
       "    .wandb-row { display: flex; flex-direction: row; flex-wrap: wrap; justify-content: flex-start; width: 100% }\n",
       "    .wandb-col { display: flex; flex-direction: column; flex-basis: 100%; flex: 1; padding: 10px; }\n",
       "    </style>\n",
       "<div class=\"wandb-row\"><div class=\"wandb-col\"><h3>Run history:</h3><br/><table class=\"wandb\"><tr><td>train_acc</td><td>▁▁▁▁▂▂▂▂▅▆▇▇▇▇██████</td></tr><tr><td>train_loss</td><td>████▇▇▇▇▄▃▂▂▂▂▁▁▁▁▁▁</td></tr><tr><td>val_acc</td><td>▃▅▄▂▄▃▄▁▆█▆▅▆▆▄▃▇▅▆▆</td></tr><tr><td>val_loss</td><td>▆▁▅▇▃█▆▇▂▃▃▅▄▄▄▅▄▄▁▁</td></tr></table><br/></div><div class=\"wandb-col\"><h3>Run summary:</h3><br/><table class=\"wandb\"><tr><td>train_acc</td><td>0.93182</td></tr><tr><td>train_loss</td><td>0.23818</td></tr><tr><td>val_acc</td><td>0.62413</td></tr><tr><td>val_loss</td><td>1.61549</td></tr></table><br/></div></div>"
      ],
      "text/plain": [
       "<IPython.core.display.HTML object>"
      ]
     },
     "metadata": {},
     "output_type": "display_data"
    },
    {
     "data": {
      "text/html": [
       "Synced <strong style=\"color:#cdcd00\">fluent-aardvark-10</strong>: <a href=\"https://wandb.ai/arzhanandrey_team/project7/runs/3fezaizg\" target=\"_blank\">https://wandb.ai/arzhanandrey_team/project7/runs/3fezaizg</a><br/>Synced 5 W&B file(s), 0 media file(s), 0 artifact file(s) and 0 other file(s)"
      ],
      "text/plain": [
       "<IPython.core.display.HTML object>"
      ]
     },
     "metadata": {},
     "output_type": "display_data"
    },
    {
     "data": {
      "text/html": [
       "Find logs at: <code>./wandb/run-20221218_195200-3fezaizg/logs</code>"
      ],
      "text/plain": [
       "<IPython.core.display.HTML object>"
      ]
     },
     "metadata": {},
     "output_type": "display_data"
    }
   ],
   "source": [
    "#!g1.1\n",
    "from tqdm import tqdm \n",
    "train_loader, val_loader, test_loader = \\\n",
    "get_data(batch_size=64, data=train, shuffle=True), get_data(batch_size=64, data=val, shuffle=True),get_data(batch_size=64, data=test, shuffle=False)\n",
    "\n",
    "optimizer = optim.SGD(model2.parameters(), lr=0.01, momentum=0.9, weight_decay=1e-4)\n",
    "scheduler = optim.lr_scheduler.ReduceLROnPlateau(optimizer, patience=5)\n",
    "\n",
    "wandb.watch(model2)\n",
    "\n",
    "train_loss_log, train_acc_log, val_loss_log, val_acc_log = train_m(device, model2, optimizer, 20, train_loader, val_loader, scheduler)\n",
    "wandb.finish()"
   ]
  },
  {
   "cell_type": "code",
   "execution_count": 79,
   "id": "1ab8a332",
   "metadata": {
    "cellId": "66hejvec1dppdm08ch9o78"
   },
   "outputs": [
    {
     "name": "stdout",
     "output_type": "stream",
     "text": [
      "0\n",
      "100\n",
      "(10000, 2)\n"
     ]
    }
   ],
   "source": [
    "#!g1.1\n",
    "test = MyDataset(path=\"data/bhw1-dataset/test\", df=None, load_to_ram=False, transform=test_transform_sem) \n",
    "test_loader = get_data(batch_size=64, data=test, shuffle=False)\n",
    "predicts = predict(device, model2, test_loader)\n",
    "df2 = pd.DataFrame(columns=['Id', 'Label'])\n",
    "for i in range(len(predicts)):\n",
    "    df2.loc[i, ['Id', 'Label']] = test.all_files[i], predicts[i].item()\n",
    "print(df2.shape)\n",
    "df2.to_csv('mobile_plato_sem65.csv', index=False)"
   ]
  },
  {
   "cell_type": "code",
   "execution_count": null,
   "id": "e04dea01",
   "metadata": {
    "cellId": "8hv9tn7a7vtrbghgi79vhc"
   },
   "outputs": [],
   "source": [
    "#!g1.1\n"
   ]
  }
 ],
 "metadata": {
  "language_info": {
   "codemirror_mode": {
    "name": "ipython",
    "version": 3
   },
   "file_extension": ".py",
   "mimetype": "text/x-python",
   "name": "python",
   "nbconvert_exporter": "python",
   "pygments_lexer": "ipython3",
   "version": "3.7.7"
  },
  "notebookId": "42bf9a3f-6b02-475d-96d3-57152949e40f",
  "notebookPath": "okpon.ipynb"
 },
 "nbformat": 4,
 "nbformat_minor": 5
}
